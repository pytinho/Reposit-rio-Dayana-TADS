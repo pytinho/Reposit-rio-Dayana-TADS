{
 "cells": [
  {
   "cell_type": "code",
   "execution_count": 1,
   "metadata": {},
   "outputs": [],
   "source": [
    "class No:\n",
    "    def __init__(self, valor):\n",
    "        self.valor = valor\n",
    "        self.proximo = None\n",
    "\n",
    "class Pilha:\n",
    "    def __init__(self):\n",
    "        self.topo = None\n",
    "\n",
    "    # Adiciona um elemento no topo da pilha\n",
    "    def push(self, valor):\n",
    "        novo_no = No(valor)\n",
    "        novo_no.proximo = self.topo\n",
    "        self.topo = novo_no\n",
    "\n",
    "    # Remove um elemento do topo da pilha\n",
    "    def pop(self):\n",
    "        if self.topo is not None:\n",
    "            removido = self.topo\n",
    "            self.topo = self.topo.proximo\n",
    "            return removido.valor\n",
    "        raise Exception(\"Pilha vazia.\")\n",
    "\n",
    "    # Acessar o topo da pilha sem realizar a remoção\n",
    "    def peek(self):\n",
    "        if self.topo is not None:\n",
    "            return self.topo.valor\n",
    "        raise Exception(\"Pilha vazia.\")\n",
    "\n",
    "    # Verifica se a pilha está vazia\n",
    "    def is_empty(self):\n",
    "        return self.topo is None\n",
    "\n",
    "def inverter_string(string):\n",
    "    pilha = Pilha()\n",
    "    for char in string:\n",
    "        pilha.push(char)\n",
    "    \n",
    "    reversed_string = \"\"\n",
    "    while not pilha.is_empty():\n",
    "        reversed_string += pilha.pop()\n",
    "    \n",
    "    return reversed_string"
   ]
  },
  {
   "cell_type": "code",
   "execution_count": 14,
   "metadata": {},
   "outputs": [
    {
     "name": "stdout",
     "output_type": "stream",
     "text": [
      "String original: 'Olá mundo!', String invertida: '!odnum álO'\n",
      "\n",
      "String original: 'Hello World', String invertida: 'dlroW olleH'\n",
      "\n",
      "String original: 'Dayana Alencar Ferreira de Carvalho', String invertida: 'ohlavraC ed arierreF racnelA anayaD'\n",
      "\n",
      "String original: 'EDUCA UNITINS', String invertida: 'SNITINU ACUDE'\n",
      "\n",
      "String original: 'ESTRUTURA DE DADOS', String invertida: 'SODAD ED ARUTURTSE'\n",
      "\n"
     ]
    }
   ],
   "source": [
    "strings_teste = [\n",
    "    \"Olá mundo!\",\n",
    "    \"Hello World\",\n",
    "    \"Dayana Alencar Ferreira de Carvalho\",\n",
    "    \"EDUCA UNITINS\",\n",
    "    \"ESTRUTURA DE DADOS\"\n",
    "]\n",
    "\n",
    "for string in strings_teste:\n",
    "    string_invertida = inverter_string(string)\n",
    "    print(f\"String original: '{string}', String invertida: '{string_invertida}'\\n\")"
   ]
  }
 ],
 "metadata": {
  "language_info": {
   "name": "python"
  }
 },
 "nbformat": 4,
 "nbformat_minor": 2
}
